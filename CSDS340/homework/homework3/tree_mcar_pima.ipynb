{
 "cells": [
  {
   "cell_type": "code",
   "execution_count": 244,
   "metadata": {},
   "outputs": [],
   "source": [
    "# -*- coding: utf-8 -*-\n",
    "\"\"\"\n",
    "Generate missing completely at random (MCAR)\n",
    "@author: Kevin S. Xu\n",
    "\"\"\"\n",
    "import numpy as np\n",
    "def generate_mcar_data(data, missing_rate, missing_value=np.nan,\n",
    "random_state=1):\n",
    "    # Generate uniform random numbers and choose entries smaller than\n",
    "    # missing_rate to be missing using a mask\n",
    "    rng = np.random.default_rng(random_state)\n",
    "    random_missing = rng.random((data.shape[0], data.shape[1] - 1))\n",
    "    mask = np.where(random_missing < missing_rate, 1, 0)\n",
    "    mask_with_label = np.hstack((mask, np.zeros((data.shape[0], 1))))\n",
    "    data_missing = data.copy()\n",
    "    data_missing[mask_with_label == 1] = missing_value\n",
    "    return data_missing\n"
   ]
  },
  {
   "cell_type": "code",
   "execution_count": 245,
   "metadata": {},
   "outputs": [],
   "source": [
    "import numpy as np\n",
    "import matplotlib.pyplot as plt\n",
    "from sklearn.metrics import accuracy_score\n",
    "from sklearn.model_selection import train_test_split\n",
    "import pandas as pd\n",
    "from sklearn.tree import DecisionTreeClassifier\n",
    "import matplotlib.pyplot as plt\n",
    "from sklearn.tree import plot_tree\n",
    "\n",
    "data = pd.read_csv(\"/Users/efang/Desktop/coding/Intro-to-ML/CSDS340/data/pima-indians-diabetes.csv\", header=None)\n",
    "\n",
    "def test(message, X_train, y_train, X_test, y_test):\n",
    "    clf_tree = DecisionTreeClassifier(criterion='entropy', max_depth=3, random_state=1)\n",
    "    clf_tree.fit(X_train, y_train)\n",
    "    accuracy = clf_tree.score(X_test, y_test)\n",
    "    print(message, accuracy)\n"
   ]
  },
  {
   "cell_type": "code",
   "execution_count": 246,
   "metadata": {},
   "outputs": [
    {
     "name": "stdout",
     "output_type": "stream",
     "text": [
      "        0      1     2     3      4     5      6   7\n",
      "0     6.0  148.0   NaN  35.0    0.0  33.6  0.627  50\n",
      "1     1.0   85.0   NaN  29.0    0.0  26.6  0.351  31\n",
      "2     8.0  183.0   NaN   0.0    0.0  23.3  0.672  32\n",
      "3     1.0   89.0  66.0  23.0   94.0  28.1  0.167  21\n",
      "4     NaN  137.0  40.0   NaN  168.0  43.1  2.288  33\n",
      "..    ...    ...   ...   ...    ...   ...    ...  ..\n",
      "763  10.0  101.0  76.0  48.0  180.0  32.9  0.171  63\n",
      "764   NaN  122.0  70.0  27.0    0.0  36.8  0.340  27\n",
      "765   5.0  121.0  72.0   NaN    NaN   NaN  0.245  30\n",
      "766   1.0  126.0  60.0   0.0    0.0  30.1  0.349  47\n",
      "767   1.0   93.0  70.0  31.0    0.0  30.4  0.315  23\n",
      "\n",
      "[768 rows x 8 columns]\n"
     ]
    }
   ],
   "source": [
    "X_full = data.iloc[:, :-1]\n",
    "y = data.iloc[:, -1]\n",
    "\n",
    "X = generate_mcar_data(X_full, .2)\n",
    "\n",
    "X_train, X_test, y_train, y_test = train_test_split(X, y, test_size=0.5, random_state=1)\n",
    "\n",
    "print(X)"
   ]
  },
  {
   "cell_type": "code",
   "execution_count": 257,
   "metadata": {},
   "outputs": [
    {
     "name": "stdout",
     "output_type": "stream",
     "text": [
      "KNNImputation: 0.7395833333333334\n"
     ]
    }
   ],
   "source": [
    "from sklearn.impute import KNNImputer\n",
    "X_full = data.iloc[:, :-1]\n",
    "y = data.iloc[:, -1]\n",
    "\n",
    "X = generate_mcar_data(X_full, .2)\n",
    "\n",
    "X_train, X_test, y_train, y_test = train_test_split(X, y, test_size=0.5, random_state=1)\n",
    "\n",
    "imputer = KNNImputer(n_neighbors = 7, weights = \"uniform\")\n",
    "imputer.fit(X_train)\n",
    "X_train = imputer.transform(X_train)\n",
    "\n",
    "clf_tree = DecisionTreeClassifier(criterion=\"entropy\", max_depth=3, random_state=1)\n",
    "clf_tree.fit(X_train, y_train)\n",
    "print(\"KNNImputation:\", clf_tree.score(imputer.transform(X_test), y_test))\n"
   ]
  },
  {
   "cell_type": "code",
   "execution_count": 269,
   "metadata": {},
   "outputs": [
    {
     "name": "stdout",
     "output_type": "stream",
     "text": [
      "SimpleImputation: 0.7291666666666666\n"
     ]
    }
   ],
   "source": [
    "from sklearn.impute import SimpleImputer\n",
    "X_full = data.iloc[:, :-1]\n",
    "y = data.iloc[:, -1]\n",
    "\n",
    "X = generate_mcar_data(X_full, .2)\n",
    "\n",
    "X_train, X_test, y_train, y_test = train_test_split(X, y, test_size=0.5, random_state=1)\n",
    "\n",
    "imputer = SimpleImputer(strategy=\"mean\")\n",
    "imputer.fit(X_train)\n",
    "X_train = imputer.transform(X_train)\n",
    "\n",
    "clf_tree = DecisionTreeClassifier(criterion=\"entropy\", max_depth=3, random_state=1)\n",
    "clf_tree.fit(X_train, y_train)\n",
    "print(\"SimpleImputation:\", clf_tree.score(imputer.transform(X_test), y_test))\n"
   ]
  },
  {
   "cell_type": "code",
   "execution_count": 249,
   "metadata": {},
   "outputs": [
    {
     "name": "stdout",
     "output_type": "stream",
     "text": [
      "Iterative Imputation: 0.75\n"
     ]
    },
    {
     "name": "stderr",
     "output_type": "stream",
     "text": [
      "/Users/efang/anaconda3/lib/python3.11/site-packages/sklearn/impute/_iterative.py:796: ConvergenceWarning: [IterativeImputer] Early stopping criterion not reached.\n",
      "  warnings.warn(\n"
     ]
    }
   ],
   "source": [
    "from sklearn.impute import IterativeImputer\n",
    "X_full = data.iloc[:, :-1]\n",
    "y = data.iloc[:, -1]\n",
    "\n",
    "X = generate_mcar_data(X_full, .2)\n",
    "\n",
    "X_train, X_test, y_train, y_test = train_test_split(X, y, test_size=0.5, random_state=1)\n",
    "\n",
    "imputer = IterativeImputer(max_iter=6, n_nearest_features=3, random_state=1)\n",
    "imputer.fit(X_train)\n",
    "X_train = imputer.transform(X_train)\n",
    "\n",
    "clf_tree = DecisionTreeClassifier(criterion=\"entropy\", max_depth=3, random_state=1)\n",
    "clf_tree.fit(X_train, y_train)\n",
    "print(\"Iterative Imputation:\", clf_tree.score(imputer.transform(X_test), y_test))\n"
   ]
  },
  {
   "cell_type": "code",
   "execution_count": 250,
   "metadata": {},
   "outputs": [
    {
     "name": "stdout",
     "output_type": "stream",
     "text": [
      "No imputation: 0.71875\n"
     ]
    }
   ],
   "source": [
    "# No imputation\n",
    "X_full = data.iloc[:, :-1]\n",
    "y = data.iloc[:, -1]\n",
    "\n",
    "X = generate_mcar_data(X_full, .2)\n",
    "\n",
    "X_train, X_test, y_train, y_test = train_test_split(X, y, test_size=0.5, random_state=1)\n",
    "\n",
    "clf_tree = DecisionTreeClassifier(criterion='entropy', max_depth=3, random_state=1)\n",
    "clf_tree.fit(X_train, y_train)\n",
    "print(\"No imputation:\", clf_tree.score(X_test, y_test))\n"
   ]
  },
  {
   "cell_type": "code",
   "execution_count": 274,
   "metadata": {},
   "outputs": [
    {
     "data": {
      "image/png": "[encoded data removed]",
      "text/plain": [
       "<Figure size 1000x600 with 1 Axes>"
      ]
     },
     "metadata": {},
     "output_type": "display_data"
    }
   ],
   "source": [
    "import matplotlib.pyplot as plt\n",
    "\n",
    "\n",
    "mean_accuracy = 0.729\n",
    "knn_accuracy = 0.7395\n",
    "iterative_accuracy = 0.75\n",
    "no_imputation_accuracy = 0.718 \n",
    "\n",
    "\n",
    "labels = ['Mean Imputation', 'KNN (7 neighbors)', 'Iterative Imputation', 'No Imputation']\n",
    "\n",
    "accuracies = [mean_accuracy] + [knn_accuracy] + [iterative_accuracy, no_imputation_accuracy]\n",
    "\n",
    "plt.figure(figsize=(10, 6))\n",
    "plt.barh(labels, accuracies, color='green')\n",
    "plt.xlabel('Accuracy')\n",
    "plt.title('Comparison of Imputation Strategies by Accuracy')\n",
    "plt.xlim([0.6, 0.8])  \n",
    "plt.show()\n"
   ]
  }
 ],
 "metadata": {
  "kernelspec": {
   "display_name": "base",
   "language": "python",
   "name": "python3"
  },
  "language_info": {
   "codemirror_mode": {
    "name": "ipython",
    "version": 3
   },
   "file_extension": ".py",
   "mimetype": "text/x-python",
   "name": "python",
   "nbconvert_exporter": "python",
   "pygments_lexer": "ipython3",
   "version": "3.11.5"
  }
 },
 "nbformat": 4,
 "nbformat_minor": 2
}

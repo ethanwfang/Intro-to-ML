{
 "cells": [
  {
   "cell_type": "code",
   "execution_count": 37,
   "metadata": {},
   "outputs": [
    {
     "name": "stdout",
     "output_type": "stream",
     "text": [
      "K-means (scipy) Adjusted Rand Index: 0.3066\n",
      "Agglomerative Clustering Adjusted Rand Index: 0.3306\n"
     ]
    }
   ],
   "source": [
    "import pandas as pd\n",
    "from sklearn.cluster import KMeans, AgglomerativeClustering, SpectralClustering, MiniBatchKMeans\n",
    "from sklearn.metrics import adjusted_rand_score\n",
    "from sklearn.preprocessing import StandardScaler\n",
    "from scipy.cluster.vq import kmeans2\n",
    "\n",
    "data = pd.read_csv('/Users/efang/Desktop/coding/Intro-to-ML/CSDS340/data/twomoons.csv', header=None)\n",
    "X = data.iloc[:, :2].values  \n",
    "y_true = data.iloc[:, 2].values  \n",
    "\n",
    "def evaluate_clustering(y_pred, y_true, name):\n",
    "    try:\n",
    "        score = adjusted_rand_score(y_true, y_pred)\n",
    "        print(f\"{name} Adjusted Rand Index: {score:.4f}\")\n",
    "        return score\n",
    "    except Exception as e:\n",
    "        print(f\"An error occurred with {name}: {e}\")\n",
    "        return None\n",
    "\n",
    "centroids, labels = kmeans2(X, 2, minit='++')\n",
    "kmeans_ari = evaluate_clustering(labels, y_true, \"K-means (scipy)\")\n",
    "\n",
    "agglo = AgglomerativeClustering(n_clusters=2)\n",
    "agglo_labels = agglo.fit_predict(X)\n",
    "agglo_ari = evaluate_clustering(agglo_labels, y_true, \"Agglomerative Clustering\")\n",
    "\n",
    "\n",
    "\n",
    "\n",
    "\n"
   ]
  },
  {
   "cell_type": "code",
   "execution_count": 55,
   "metadata": {},
   "outputs": [
    {
     "name": "stdout",
     "output_type": "stream",
     "text": [
      "SpectralClustering Adjusted Rand Index: 0.0480\n",
      "0.047983673469387755 1\n",
      "SpectralClustering Adjusted Rand Index: 0.1358\n",
      "0.13575757575757577 2\n",
      "SpectralClustering Adjusted Rand Index: 0.0415\n",
      "0.04154169837503917 3\n",
      "SpectralClustering Adjusted Rand Index: 0.2059\n",
      "0.20591790142799588 4\n",
      "SpectralClustering Adjusted Rand Index: 0.2059\n",
      "0.20591790142799588 5\n",
      "SpectralClustering Adjusted Rand Index: 0.3308\n",
      "0.33083307189915295 6\n",
      "SpectralClustering Adjusted Rand Index: 0.3308\n",
      "0.33083307189915295 7\n",
      "SpectralClustering Adjusted Rand Index: 0.4044\n",
      "0.4043632094699255 8\n",
      "SpectralClustering Adjusted Rand Index: 0.4044\n",
      "0.4043632094699255 9\n",
      "SpectralClustering Adjusted Rand Index: 0.4044\n",
      "0.4043632094699255 10\n",
      "SpectralClustering Adjusted Rand Index: 0.4853\n",
      "0.4852686308492201 11\n",
      "SpectralClustering Adjusted Rand Index: 0.5433\n",
      "0.5432987041591718 12\n",
      "SpectralClustering Adjusted Rand Index: 0.5735\n",
      "0.5734638922888617 13\n",
      "SpectralClustering Adjusted Rand Index: 0.5735\n",
      "0.5734638922888617 14\n",
      "SpectralClustering Adjusted Rand Index: 0.5735\n",
      "0.5734638922888617 15\n",
      "SpectralClustering Adjusted Rand Index: 0.5430\n",
      "0.5430303030303031 16\n",
      "SpectralClustering Adjusted Rand Index: 0.6044\n",
      "0.6044056963032804 17\n",
      "SpectralClustering Adjusted Rand Index: 0.5135\n",
      "0.5134857142857143 18\n",
      "SpectralClustering Adjusted Rand Index: 0.5135\n",
      "0.5134936572464123 19\n",
      "SpectralClustering Adjusted Rand Index: 0.2844\n",
      "0.28437434949245105 0.01\n",
      "SpectralClustering Adjusted Rand Index: 0.2844\n",
      "0.28437434949245105 0.05\n",
      "SpectralClustering Adjusted Rand Index: 0.2844\n",
      "0.28437434949245105 0.1\n",
      "SpectralClustering Adjusted Rand Index: 0.3066\n",
      "0.30659591836734695 0.5\n",
      "SpectralClustering Adjusted Rand Index: 0.3296\n",
      "0.3296313076273158 1\n",
      "SpectralClustering Adjusted Rand Index: 0.5135\n",
      "0.5135174845724361 5\n",
      "SpectralClustering Adjusted Rand Index: 0.5430\n",
      "0.5430303030303031 6\n",
      "SpectralClustering Adjusted Rand Index: 0.5430\n",
      "0.5430303030303031 7\n",
      "SpectralClustering Adjusted Rand Index: 0.5430\n",
      "0.5430303030303031 8\n",
      "SpectralClustering Adjusted Rand Index: 0.5734\n",
      "0.5733524869815048 9\n",
      "SpectralClustering Adjusted Rand Index: 0.5734\n",
      "0.5733524869815048 10\n"
     ]
    },
    {
     "name": "stderr",
     "output_type": "stream",
     "text": [
      "/Users/efang/anaconda3/lib/python3.11/site-packages/sklearn/manifold/_spectral_embedding.py:273: UserWarning: Graph is not fully connected, spectral embedding may not work as expected.\n",
      "  warnings.warn(\n",
      "/Users/efang/anaconda3/lib/python3.11/site-packages/sklearn/manifold/_spectral_embedding.py:273: UserWarning: Graph is not fully connected, spectral embedding may not work as expected.\n",
      "  warnings.warn(\n",
      "/Users/efang/anaconda3/lib/python3.11/site-packages/sklearn/manifold/_spectral_embedding.py:273: UserWarning: Graph is not fully connected, spectral embedding may not work as expected.\n",
      "  warnings.warn(\n",
      "/Users/efang/anaconda3/lib/python3.11/site-packages/sklearn/manifold/_spectral_embedding.py:273: UserWarning: Graph is not fully connected, spectral embedding may not work as expected.\n",
      "  warnings.warn(\n",
      "/Users/efang/anaconda3/lib/python3.11/site-packages/sklearn/manifold/_spectral_embedding.py:273: UserWarning: Graph is not fully connected, spectral embedding may not work as expected.\n",
      "  warnings.warn(\n"
     ]
    }
   ],
   "source": [
    "for neighbors in range(1, 20):\n",
    "    spec = SpectralClustering(n_clusters=2, affinity = 'nearest_neighbors', n_neighbors = neighbors, assign_labels='discretize', random_state=42).fit(X)\n",
    "    spec_accuracy = evaluate_clustering(spec.labels_, y_true, \"SpectralClustering\")\n",
    "    print(spec_accuracy, neighbors)\n",
    "\n",
    "# SpectralClustering Adjusted Rand Index: 0.6691 / cluster_qr\n",
    "# 0.6691233181935041 14\n",
    "\n",
    "gamma_values = [0.01, 0.05, 0.1, 0.5, 1, 5, 6, 7, 8, 9, 10]\n",
    "\n",
    "for gamma in gamma_values:\n",
    "    spec = SpectralClustering(n_clusters=2, affinity = 'rbf', gamma = gamma, assign_labels='discretize', random_state=42).fit(X)\n",
    "    spec_accuracy = evaluate_clustering(spec.labels_, y_true, \"SpectralClustering\")\n",
    "    print(spec_accuracy, gamma)\n"
   ]
  }
 ],
 "metadata": {
  "kernelspec": {
   "display_name": "base",
   "language": "python",
   "name": "python3"
  },
  "language_info": {
   "codemirror_mode": {
    "name": "ipython",
    "version": 3
   },
   "file_extension": ".py",
   "mimetype": "text/x-python",
   "name": "python",
   "nbconvert_exporter": "python",
   "pygments_lexer": "ipython3",
   "version": "3.11.5"
  }
 },
 "nbformat": 4,
 "nbformat_minor": 2
}

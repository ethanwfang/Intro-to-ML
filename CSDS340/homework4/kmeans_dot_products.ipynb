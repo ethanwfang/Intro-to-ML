{
 "cells": [
  {
   "cell_type": "code",
   "execution_count": null,
   "metadata": {},
   "outputs": [],
   "source": [
    "import numpy as np\n",
    "\n",
    "def fit_kmeans_dot_products(K, n_clusters, max_iter=300):\n",
    "    n_samples = K.shape[0]\n",
    "    \n",
    "    # randomly initialize points\n",
    "    labels = np.random.randint(0, n_clusters, n_samples)\n",
    "    \n",
    "    for iteration in range(max_iter):\n",
    "        # find cluster size\n",
    "        cluster_sizes = np.array([np.sum(labels == j) for j in range(n_clusters)])\n",
    "        \n",
    "        # double summation\n",
    "        cluster_sums = np.zeros((n_clusters, n_samples))\n",
    "        for j in range(n_clusters):\n",
    "            if cluster_sizes[j] > 0:\n",
    "                # sum_{l=1}^{n} w^{(l,j)} * k_{il} for each example i in cluster j\n",
    "                cluster_members = (labels == j)\n",
    "                cluster_sums[j] = K[:, cluster_members].sum(axis=1) / cluster_sizes[j]\n",
    "        \n",
    "        # find the distance to each cluster\n",
    "        distances = np.zeros((n_samples, n_clusters))\n",
    "        for j in range(n_clusters):\n",
    "            if cluster_sizes[j] > 0:\n",
    "                distances[:, j] = np.diag(K) - 2 * cluster_sums[j] + \\\n",
    "                                  (K[cluster_members, :][:, cluster_members].sum() / (cluster_sizes[j]**2))\n",
    "\n",
    "        # assigning the labels to the centroid the minimum distancea away\n",
    "        new_labels = np.argmin(distances, axis=1)\n",
    "\n",
    "        # checking for convergence here\n",
    "        if np.array_equal(labels, new_labels):\n",
    "            break\n",
    "\n",
    "        # not convergence, then assign and go again\n",
    "        labels = new_labels\n",
    "    \n",
    "    return labels\n"
   ]
  }
 ],
 "metadata": {
  "language_info": {
   "name": "python"
  }
 },
 "nbformat": 4,
 "nbformat_minor": 2
}

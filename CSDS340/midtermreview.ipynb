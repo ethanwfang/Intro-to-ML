{
 "cells": [
  {
   "cell_type": "markdown",
   "metadata": {},
   "source": [
    "# Machine Learning Review"
   ]
  },
  {
   "cell_type": "markdown",
   "metadata": {},
   "source": [
    "## Classification Algorithms\n",
    "\n",
    "### Naive Bayes\n",
    "\n",
    "### Perceptron\n",
    "\n",
    "### Adaline and Gradient Descent\n",
    "\n",
    "### Support Vector Machines\n",
    "\n",
    "### Kernel Support Vector Machines\n",
    "\n",
    "### Decision Trees\n",
    "\n",
    "### K Nearest Neighbors (KNN)\n"
   ]
  },
  {
   "cell_type": "markdown",
   "metadata": {},
   "source": [
    "## Data Preprocessing\n",
    "\n",
    "### Imputation\n",
    "\n",
    "### Ordinal vs. Nominal Features\n",
    "\n",
    "### Feature Scaling\n"
   ]
  },
  {
   "cell_type": "markdown",
   "metadata": {},
   "source": [
    "## Dimensionality Reduction\n",
    "\n",
    "### Principal Component Analysis (PCA)\n",
    "\n",
    "### Supervised Dimensionality Reduction\n",
    "\n",
    "### Nonlinear Dimensionality Reduction"
   ]
  }
 ],
 "metadata": {
  "language_info": {
   "name": "python"
  }
 },
 "nbformat": 4,
 "nbformat_minor": 2
}

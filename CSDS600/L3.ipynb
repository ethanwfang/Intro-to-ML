{
 "cells": [
  {
   "cell_type": "code",
   "execution_count": 1,
   "metadata": {},
   "outputs": [],
   "source": [
    "import torch.functional as F\n",
    "import torch\n",
    "from torch.nn import functional as F"
   ]
  },
  {
   "cell_type": "code",
   "execution_count": 2,
   "metadata": {},
   "outputs": [],
   "source": [
    "# Attention demo code\n",
    "def attention(q,k,v):\n",
    "    # q, k, v shape: (batch_size, seq_len, dim)\n",
    "    score = q @ k.transpose(1,2)\n",
    "    score = score / (k.size(-1) ** 0.5)\n",
    "    score = F.softmax(score, dim=-1)\n",
    "    output = score @ v\n",
    "    return output"
   ]
  },
  {
   "cell_type": "code",
   "execution_count": 5,
   "metadata": {},
   "outputs": [
    {
     "name": "stdout",
     "output_type": "stream",
     "text": [
      "tensor([[[ 0.2059, -0.2209,  0.5415, -0.5711],\n",
      "         [ 0.3654, -0.1495,  0.6590, -0.4663]]])\n"
     ]
    }
   ],
   "source": [
    "batch_size = 1\n",
    "seq_len = 2\n",
    "dim = 4\n",
    "\n",
    "q = torch.randn(batch_size, seq_len, dim)\n",
    "k = torch.randn(batch_size, seq_len, dim)\n",
    "v = torch.randn(batch_size, seq_len, dim)\n",
    "\n",
    "output = attention(q, k, v)\n",
    "\n",
    "print(output)"
   ]
  },
  {
   "cell_type": "code",
   "execution_count": 6,
   "metadata": {},
   "outputs": [
    {
     "name": "stdout",
     "output_type": "stream",
     "text": [
      "tensor([[[-0.2881, -0.8231,  0.8004,  1.0026],\n",
      "         [ 1.4148, -1.4936,  0.3784,  0.7028],\n",
      "         [-0.9982, -1.0546,  1.0988,  1.5405],\n",
      "         [ 2.0777, -1.8968,  0.2108,  0.9061],\n",
      "         [-0.5247, -0.0417,  1.2336,  0.1887]]])\n",
      "tensor([[[-0.2881, -0.8231,  0.8004,  1.0026],\n",
      "         [ 1.4148, -1.4936,  0.3784,  0.7028],\n",
      "         [-0.9982, -1.0546,  1.0988,  1.5405],\n",
      "         [ 2.0777, -1.8968,  0.2108,  0.9061],\n",
      "         [-0.5247, -0.0417,  1.2336,  0.1887]]])\n"
     ]
    }
   ],
   "source": [
    "def test_attention():\n",
    "    batch_size = 1\n",
    "    seq_len = 5\n",
    "    dim = 4\n",
    "\n",
    "    q = torch.randn(batch_size, seq_len, dim)\n",
    "    k = torch.randn(batch_size, seq_len, dim)\n",
    "    v = torch.randn(batch_size, seq_len, dim)\n",
    "\n",
    "    output = attention(q,k,v)\n",
    "\n",
    "    print(output)\n",
    "\n",
    "    output2 = F.scaled_dot_product_attention(q,k,v,is_causal=False)\n",
    "\n",
    "    print(output2)\n",
    "\n",
    "    assert torch.allclose(output, output2)\n",
    "\n",
    "test_attention()\n",
    "    "
   ]
  }
 ],
 "metadata": {
  "kernelspec": {
   "display_name": "base",
   "language": "python",
   "name": "python3"
  },
  "language_info": {
   "codemirror_mode": {
    "name": "ipython",
    "version": 3
   },
   "file_extension": ".py",
   "mimetype": "text/x-python",
   "name": "python",
   "nbconvert_exporter": "python",
   "pygments_lexer": "ipython3",
   "version": "3.11.5"
  }
 },
 "nbformat": 4,
 "nbformat_minor": 2
}
